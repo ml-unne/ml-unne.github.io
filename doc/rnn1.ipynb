{
 "cells": [
  {
   "cell_type": "code",
   "execution_count": 1,
   "id": "dfcc61e3-9385-42f1-b57c-969d38c3a4b9",
   "metadata": {
    "tags": []
   },
   "outputs": [],
   "source": [
    "import numpy as np\n",
    "import math\n",
    "import torch\n",
    "import random\n",
    "import torch.nn as nn\n",
    "from torch.utils.data import TensorDataset\n",
    "import torch.optim as optim\n",
    "import matplotlib.pyplot as plt\n",
    "from torchsummary import summary"
   ]
  },
  {
   "cell_type": "markdown",
   "id": "d7f7516e-7f07-439b-a6d0-2c1ac47987ba",
   "metadata": {},
   "source": [
    "### Sequencias de Fibonacci y \"de\" Neil Sloane\n",
    "<img src=\"sequences.png\" alt=\"Alternative text\" width=\"800\"/>"
   ]
  },
  {
   "cell_type": "code",
   "execution_count": 2,
   "id": "81ed3421-ff7c-4305-9156-dbbda43f2b61",
   "metadata": {
    "tags": []
   },
   "outputs": [],
   "source": [
    "a_cache, b_cache = {}, {}\n",
    "\n",
    "def a(n):\n",
    "    if n in a_cache:\n",
    "        return a_cache[n]    \n",
    "    ###      Fibonacci \n",
    "    if n == 0 or n == 1:\n",
    "        \n",
    "        return 1\n",
    "    else:\n",
    "        a_cache[n] = a(n-1) + a(n-2)\n",
    "        return a(n-1) + a(n-2)\n",
    "\n",
    "def b(n):\n",
    "    if n in b_cache:\n",
    "        return b_cache[n] \n",
    "    ###     Neil\n",
    "    if n == 0 or n == 1:\n",
    "        return 1\n",
    "    else: \n",
    "        gcd = math.gcd(b(n-1),n)\n",
    "        if gcd == 1:\n",
    "            b_cache[n] = b(n-1) + n + 1\n",
    "            return b(n-1) + n + 1\n",
    "        else:\n",
    "            b_cache[n] = int(b(n-1)/gcd)\n",
    "            return int(b(n-1)/gcd)"
   ]
  },
  {
   "cell_type": "code",
   "execution_count": 20,
   "id": "2a324cc6-6722-4c8e-b208-e44212f51148",
   "metadata": {
    "tags": []
   },
   "outputs": [
    {
     "name": "stdout",
     "output_type": "stream",
     "text": [
      "n         [0, 1, 2, 3, 4, 5, 6, 7, 8, 9]\n",
      "Fibonacci [1, 1, 2, 3, 5, 8, 13, 21]\n",
      "Neil      [1, 1, 4, 8, 2, 8, 4, 12]\n"
     ]
    },
    {
     "data": {
      "image/png": "[encoded data removed]",
      "text/plain": [
       "<Figure size 640x480 with 2 Axes>"
      ]
     },
     "metadata": {},
     "output_type": "display_data"
    }
   ],
   "source": [
    "N=8;  seq1, seq2 = [a(n) for n in range(N)], [b(n) for n in range(N)]\n",
    "print('n        ',[i for i in range(10)])\n",
    "print('Fibonacci',seq1[:10])\n",
    "print('Neil     ',seq2[:10])\n",
    "fig, axes = plt.subplots(nrows=1,ncols=2,width_ratios=[1, 2])\n",
    "fig.tight_layout(pad=3.0)\n",
    "axes[0].scatter(range(N),seq1); axes[0].set(xlabel='n', ylabel='$a_n$')\n",
    "axes[1].scatter(range(N),seq2); axes[1].set(xlabel='n', ylabel='$b_n$')\n",
    "\n",
    "seq1 = torch.tensor(seq1,dtype=torch.float32)\n",
    "seq2 = torch.tensor(seq2,dtype=torch.float32)"
   ]
  },
  {
   "cell_type": "markdown",
   "id": "a1b32011-b5cd-454f-9a88-750df0ac4519",
   "metadata": {},
   "source": [
    "### <font color='red'> Tarea 1: armando el dataset con la serie de tiempo\n",
    "Implementar en la rutina *input_data* diferentes formas de armar nuestras observaciones.\n",
    "    \n",
    "(a) Sampleo aleatorio: recortar trozos de largo ws pero alrededor de un índice elejido al aza\n"
   ]
  },
  {
   "cell_type": "code",
   "execution_count": 4,
   "id": "9c06c1c8-6338-4058-aaeb-669854902c2b",
   "metadata": {
    "tags": []
   },
   "outputs": [],
   "source": [
    "def input_data(seq,ws,opt=1):     # input: chunk[:-1], label: ichunk[-1] \n",
    "    chunks = [];\n",
    "    \n",
    "    if opt == 1:\n",
    "        for i in range(len(seq) - ws):\n",
    "            chunks.append( (seq[i:i+ws], seq[i+ws:i+ws+1])  )\n",
    "    if opt == 2:\n",
    "        pass # HACER\n",
    "            \n",
    "    return chunks"
   ]
  },
  {
   "cell_type": "code",
   "execution_count": 21,
   "id": "f0083250-0f21-420f-a932-8ff93a905a33",
   "metadata": {
    "tags": []
   },
   "outputs": [
    {
     "name": "stdout",
     "output_type": "stream",
     "text": [
      "Lenghts: seq, chunks -> 8 4\n"
     ]
    },
    {
     "data": {
      "text/plain": [
       "[(tensor([1., 1., 4., 8.]), tensor([2.])),\n",
       " (tensor([1., 4., 8., 2.]), tensor([8.])),\n",
       " (tensor([4., 8., 2., 8.]), tensor([4.])),\n",
       " (tensor([8., 2., 8., 4.]), tensor([12.]))]"
      ]
     },
     "execution_count": 21,
     "metadata": {},
     "output_type": "execute_result"
    }
   ],
   "source": [
    "window_size = 4\n",
    "data = input_data(seq2, window_size)\n",
    "print('Lenghts: seq, chunks ->',len(seq2),len(data))\n",
    "data[:4]"
   ]
  },
  {
   "cell_type": "code",
   "execution_count": 22,
   "id": "d1928ddf-59b9-44c6-bbe1-8273fc8f437a",
   "metadata": {
    "tags": []
   },
   "outputs": [
    {
     "name": "stdout",
     "output_type": "stream",
     "text": [
      "Lenghts: train, test -> 3 1\n"
     ]
    }
   ],
   "source": [
    "test_size=int(0.33*len(data))\n",
    "train = data[:-test_size]\n",
    "test = data[-test_size:]\n",
    "print('Lenghts: train, test ->',len(train),len(test))"
   ]
  },
  {
   "cell_type": "code",
   "execution_count": 23,
   "id": "7124770e-790c-4bd0-ae5e-3d6487bcda56",
   "metadata": {
    "tags": []
   },
   "outputs": [
    {
     "data": {
      "text/plain": [
       "(tensor([8., 2., 8., 4.]), tensor([12.]))"
      ]
     },
     "execution_count": 23,
     "metadata": {},
     "output_type": "execute_result"
    }
   ],
   "source": [
    "test[0]"
   ]
  },
  {
   "cell_type": "markdown",
   "id": "c2e76041-ad62-4d70-bf6e-a23bcfd7186c",
   "metadata": {},
   "source": [
    "## RNN\n",
    "<img src=\"Recurrent_neural_network_unfold.png\" alt=\"Alternative text\" width=\"800\"/>\n",
    "<img src=\"cap1.png\" alt=\"Alternative text\" width=\"800\"/>"
   ]
  },
  {
   "cell_type": "code",
   "execution_count": 24,
   "id": "63663b15-44de-4bc9-a34d-693d6ac93a6a",
   "metadata": {
    "tags": []
   },
   "outputs": [
    {
     "name": "stdout",
     "output_type": "stream",
     "text": [
      "RNN output   torch.Size([4, 3, 20])\n",
      "FCNN output  torch.Size([4, 3, 1])\n"
     ]
    }
   ],
   "source": [
    "# Ejemplo para entender la documentación\n",
    "batch_size = 3\n",
    "rnn = nn.RNN(1, 20, 2)\n",
    "inputs = torch.randn(4, batch_size, 1)  # inputs: secuencia de longitud 5, un tamaño de lote de 3 y cada elemento de la secuencia tiene 10 características.\n",
    "h0 = torch.randn(2, batch_size, 20)      # 2 capas apiladas, un tamaño de lote de 3 y cada capa tiene un estado oculto de 20 características.\n",
    "out, hn = rnn(inputs, h0)\n",
    "print('RNN output  ',out.shape)\n",
    "fcnn = nn.Linear(20, 1)\n",
    "output = fcnn(out)\n",
    "print('FCNN output ',output.shape)"
   ]
  },
  {
   "cell_type": "code",
   "execution_count": 9,
   "id": "9fd931bf-4a23-44b4-9c9a-4f43f8baebfd",
   "metadata": {
    "tags": []
   },
   "outputs": [
    {
     "data": {
      "text/plain": [
       "tensor([[[1.]],\n",
       "\n",
       "        [[1.]],\n",
       "\n",
       "        [[4.]],\n",
       "\n",
       "        [[8.]]])"
      ]
     },
     "execution_count": 9,
     "metadata": {},
     "output_type": "execute_result"
    }
   ],
   "source": [
    "seq, y_train = train[0]\n",
    "seq.view(len(seq),1,-1)"
   ]
  },
  {
   "cell_type": "markdown",
   "id": "58bd0c73-d2cd-4698-b75f-dfe585ad329e",
   "metadata": {},
   "source": [
    "<img src=\"Heman.jpeg\" alt=\"Alternative text\" width=\"300\"/>"
   ]
  },
  {
   "cell_type": "code",
   "execution_count": 16,
   "id": "7a03ed83-164a-47b3-ae18-4c8c43f29c06",
   "metadata": {},
   "outputs": [],
   "source": [
    "class RNN(nn.Module):\n",
    "    \n",
    "    def __init__(self, input_size = 1, hidden_size = 50, output_size = 1):\n",
    "        super().__init__()\n",
    "        self.hidden_size = hidden_size\n",
    "        self.rnn = nn.RNN(input_size, hidden_size)\n",
    "        self.linear = nn.Linear(hidden_size, output_size)\n",
    "        self.hidden = (torch.zeros(1,1,hidden_size),torch.zeros(1,1,hidden_size))\n",
    "    \n",
    "    def forward(self,seq):\n",
    "        rnn_out, self.hidden = self.rnn(seq.view(len(seq),1,-1), self.hidden)\n",
    "        pred = self.linear(rnn_out.view(len(seq),-1))\n",
    "        return pred[-1]"
   ]
  },
  {
   "cell_type": "code",
   "execution_count": 17,
   "id": "2a1544e1-5200-4f25-9641-65376a739055",
   "metadata": {
    "tags": []
   },
   "outputs": [
    {
     "name": "stdout",
     "output_type": "stream",
     "text": [
      "RNN(\n",
      "  (rnn): RNN(1, 50)\n",
      "  (linear): Linear(in_features=50, out_features=1, bias=True)\n",
      ") \n",
      "\n",
      "SGD (\n",
      "Parameter Group 0\n",
      "    dampening: 0\n",
      "    differentiable: False\n",
      "    foreach: None\n",
      "    lr: 0.01\n",
      "    maximize: False\n",
      "    momentum: 0\n",
      "    nesterov: False\n",
      "    weight_decay: 0\n",
      ")\n"
     ]
    }
   ],
   "source": [
    "torch.manual_seed(42)\n",
    "model = RNN()\n",
    "criterion = nn.MSELoss()\n",
    "optimizer = torch.optim.SGD(model.parameters(), lr=0.01)\n",
    "print(model,'\\n');print(optimizer)"
   ]
  },
  {
   "cell_type": "code",
   "execution_count": 19,
   "id": "24aee37b-1fdb-40d0-8e5d-29e8ddb1959b",
   "metadata": {
    "tags": []
   },
   "outputs": [
    {
     "ename": "AttributeError",
     "evalue": "'tuple' object has no attribute 'dim'",
     "output_type": "error",
     "traceback": [
      "\u001b[0;31m---------------------------------------------------------------------------\u001b[0m",
      "\u001b[0;31mAttributeError\u001b[0m                            Traceback (most recent call last)",
      "Cell \u001b[0;32mIn[19], line 9\u001b[0m\n\u001b[1;32m      6\u001b[0m model\u001b[38;5;241m.\u001b[39mhidden \u001b[38;5;241m=\u001b[39m (torch\u001b[38;5;241m.\u001b[39mzeros(\u001b[38;5;241m1\u001b[39m,\u001b[38;5;241m1\u001b[39m,model\u001b[38;5;241m.\u001b[39mhidden_size),\n\u001b[1;32m      7\u001b[0m                torch\u001b[38;5;241m.\u001b[39mzeros(\u001b[38;5;241m1\u001b[39m,\u001b[38;5;241m1\u001b[39m,model\u001b[38;5;241m.\u001b[39mhidden_size))\n\u001b[1;32m      8\u001b[0m \u001b[38;5;66;03m#print(seq.shape,y_train.shape)\u001b[39;00m\n\u001b[0;32m----> 9\u001b[0m y_pred \u001b[38;5;241m=\u001b[39m model(seq)\n\u001b[1;32m     10\u001b[0m loss \u001b[38;5;241m=\u001b[39m criterion(y_pred, y_train)\n\u001b[1;32m     11\u001b[0m loss\u001b[38;5;241m.\u001b[39mbackward()\n",
      "File \u001b[0;32m~/anaconda3/lib/python3.11/site-packages/torch/nn/modules/module.py:1518\u001b[0m, in \u001b[0;36mModule._wrapped_call_impl\u001b[0;34m(self, *args, **kwargs)\u001b[0m\n\u001b[1;32m   1516\u001b[0m     \u001b[38;5;28;01mreturn\u001b[39;00m \u001b[38;5;28mself\u001b[39m\u001b[38;5;241m.\u001b[39m_compiled_call_impl(\u001b[38;5;241m*\u001b[39margs, \u001b[38;5;241m*\u001b[39m\u001b[38;5;241m*\u001b[39mkwargs)  \u001b[38;5;66;03m# type: ignore[misc]\u001b[39;00m\n\u001b[1;32m   1517\u001b[0m \u001b[38;5;28;01melse\u001b[39;00m:\n\u001b[0;32m-> 1518\u001b[0m     \u001b[38;5;28;01mreturn\u001b[39;00m \u001b[38;5;28mself\u001b[39m\u001b[38;5;241m.\u001b[39m_call_impl(\u001b[38;5;241m*\u001b[39margs, \u001b[38;5;241m*\u001b[39m\u001b[38;5;241m*\u001b[39mkwargs)\n",
      "File \u001b[0;32m~/anaconda3/lib/python3.11/site-packages/torch/nn/modules/module.py:1527\u001b[0m, in \u001b[0;36mModule._call_impl\u001b[0;34m(self, *args, **kwargs)\u001b[0m\n\u001b[1;32m   1522\u001b[0m \u001b[38;5;66;03m# If we don't have any hooks, we want to skip the rest of the logic in\u001b[39;00m\n\u001b[1;32m   1523\u001b[0m \u001b[38;5;66;03m# this function, and just call forward.\u001b[39;00m\n\u001b[1;32m   1524\u001b[0m \u001b[38;5;28;01mif\u001b[39;00m \u001b[38;5;129;01mnot\u001b[39;00m (\u001b[38;5;28mself\u001b[39m\u001b[38;5;241m.\u001b[39m_backward_hooks \u001b[38;5;129;01mor\u001b[39;00m \u001b[38;5;28mself\u001b[39m\u001b[38;5;241m.\u001b[39m_backward_pre_hooks \u001b[38;5;129;01mor\u001b[39;00m \u001b[38;5;28mself\u001b[39m\u001b[38;5;241m.\u001b[39m_forward_hooks \u001b[38;5;129;01mor\u001b[39;00m \u001b[38;5;28mself\u001b[39m\u001b[38;5;241m.\u001b[39m_forward_pre_hooks\n\u001b[1;32m   1525\u001b[0m         \u001b[38;5;129;01mor\u001b[39;00m _global_backward_pre_hooks \u001b[38;5;129;01mor\u001b[39;00m _global_backward_hooks\n\u001b[1;32m   1526\u001b[0m         \u001b[38;5;129;01mor\u001b[39;00m _global_forward_hooks \u001b[38;5;129;01mor\u001b[39;00m _global_forward_pre_hooks):\n\u001b[0;32m-> 1527\u001b[0m     \u001b[38;5;28;01mreturn\u001b[39;00m forward_call(\u001b[38;5;241m*\u001b[39margs, \u001b[38;5;241m*\u001b[39m\u001b[38;5;241m*\u001b[39mkwargs)\n\u001b[1;32m   1529\u001b[0m \u001b[38;5;28;01mtry\u001b[39;00m:\n\u001b[1;32m   1530\u001b[0m     result \u001b[38;5;241m=\u001b[39m \u001b[38;5;28;01mNone\u001b[39;00m\n",
      "Cell \u001b[0;32mIn[16], line 11\u001b[0m, in \u001b[0;36mRNN.forward\u001b[0;34m(self, seq)\u001b[0m\n\u001b[1;32m     10\u001b[0m \u001b[38;5;28;01mdef\u001b[39;00m \u001b[38;5;21mforward\u001b[39m(\u001b[38;5;28mself\u001b[39m,seq):\n\u001b[0;32m---> 11\u001b[0m     rnn_out, \u001b[38;5;28mself\u001b[39m\u001b[38;5;241m.\u001b[39mhidden \u001b[38;5;241m=\u001b[39m \u001b[38;5;28mself\u001b[39m\u001b[38;5;241m.\u001b[39mrnn(seq\u001b[38;5;241m.\u001b[39mview(\u001b[38;5;28mlen\u001b[39m(seq),\u001b[38;5;241m1\u001b[39m,\u001b[38;5;241m-\u001b[39m\u001b[38;5;241m1\u001b[39m), \u001b[38;5;28mself\u001b[39m\u001b[38;5;241m.\u001b[39mhidden)\n\u001b[1;32m     12\u001b[0m     pred \u001b[38;5;241m=\u001b[39m \u001b[38;5;28mself\u001b[39m\u001b[38;5;241m.\u001b[39mlinear(rnn_out\u001b[38;5;241m.\u001b[39mview(\u001b[38;5;28mlen\u001b[39m(seq),\u001b[38;5;241m-\u001b[39m\u001b[38;5;241m1\u001b[39m))\n\u001b[1;32m     13\u001b[0m     \u001b[38;5;28;01mreturn\u001b[39;00m pred[\u001b[38;5;241m-\u001b[39m\u001b[38;5;241m1\u001b[39m]\n",
      "File \u001b[0;32m~/anaconda3/lib/python3.11/site-packages/torch/nn/modules/module.py:1518\u001b[0m, in \u001b[0;36mModule._wrapped_call_impl\u001b[0;34m(self, *args, **kwargs)\u001b[0m\n\u001b[1;32m   1516\u001b[0m     \u001b[38;5;28;01mreturn\u001b[39;00m \u001b[38;5;28mself\u001b[39m\u001b[38;5;241m.\u001b[39m_compiled_call_impl(\u001b[38;5;241m*\u001b[39margs, \u001b[38;5;241m*\u001b[39m\u001b[38;5;241m*\u001b[39mkwargs)  \u001b[38;5;66;03m# type: ignore[misc]\u001b[39;00m\n\u001b[1;32m   1517\u001b[0m \u001b[38;5;28;01melse\u001b[39;00m:\n\u001b[0;32m-> 1518\u001b[0m     \u001b[38;5;28;01mreturn\u001b[39;00m \u001b[38;5;28mself\u001b[39m\u001b[38;5;241m.\u001b[39m_call_impl(\u001b[38;5;241m*\u001b[39margs, \u001b[38;5;241m*\u001b[39m\u001b[38;5;241m*\u001b[39mkwargs)\n",
      "File \u001b[0;32m~/anaconda3/lib/python3.11/site-packages/torch/nn/modules/module.py:1527\u001b[0m, in \u001b[0;36mModule._call_impl\u001b[0;34m(self, *args, **kwargs)\u001b[0m\n\u001b[1;32m   1522\u001b[0m \u001b[38;5;66;03m# If we don't have any hooks, we want to skip the rest of the logic in\u001b[39;00m\n\u001b[1;32m   1523\u001b[0m \u001b[38;5;66;03m# this function, and just call forward.\u001b[39;00m\n\u001b[1;32m   1524\u001b[0m \u001b[38;5;28;01mif\u001b[39;00m \u001b[38;5;129;01mnot\u001b[39;00m (\u001b[38;5;28mself\u001b[39m\u001b[38;5;241m.\u001b[39m_backward_hooks \u001b[38;5;129;01mor\u001b[39;00m \u001b[38;5;28mself\u001b[39m\u001b[38;5;241m.\u001b[39m_backward_pre_hooks \u001b[38;5;129;01mor\u001b[39;00m \u001b[38;5;28mself\u001b[39m\u001b[38;5;241m.\u001b[39m_forward_hooks \u001b[38;5;129;01mor\u001b[39;00m \u001b[38;5;28mself\u001b[39m\u001b[38;5;241m.\u001b[39m_forward_pre_hooks\n\u001b[1;32m   1525\u001b[0m         \u001b[38;5;129;01mor\u001b[39;00m _global_backward_pre_hooks \u001b[38;5;129;01mor\u001b[39;00m _global_backward_hooks\n\u001b[1;32m   1526\u001b[0m         \u001b[38;5;129;01mor\u001b[39;00m _global_forward_hooks \u001b[38;5;129;01mor\u001b[39;00m _global_forward_pre_hooks):\n\u001b[0;32m-> 1527\u001b[0m     \u001b[38;5;28;01mreturn\u001b[39;00m forward_call(\u001b[38;5;241m*\u001b[39margs, \u001b[38;5;241m*\u001b[39m\u001b[38;5;241m*\u001b[39mkwargs)\n\u001b[1;32m   1529\u001b[0m \u001b[38;5;28;01mtry\u001b[39;00m:\n\u001b[1;32m   1530\u001b[0m     result \u001b[38;5;241m=\u001b[39m \u001b[38;5;28;01mNone\u001b[39;00m\n",
      "File \u001b[0;32m~/anaconda3/lib/python3.11/site-packages/torch/nn/modules/rnn.py:533\u001b[0m, in \u001b[0;36mRNN.forward\u001b[0;34m(self, input, hx)\u001b[0m\n\u001b[1;32m    531\u001b[0m         hx \u001b[38;5;241m=\u001b[39m hx\u001b[38;5;241m.\u001b[39munsqueeze(\u001b[38;5;241m1\u001b[39m)\n\u001b[1;32m    532\u001b[0m \u001b[38;5;28;01melse\u001b[39;00m:\n\u001b[0;32m--> 533\u001b[0m     \u001b[38;5;28;01mif\u001b[39;00m hx \u001b[38;5;129;01mis\u001b[39;00m \u001b[38;5;129;01mnot\u001b[39;00m \u001b[38;5;28;01mNone\u001b[39;00m \u001b[38;5;129;01mand\u001b[39;00m hx\u001b[38;5;241m.\u001b[39mdim() \u001b[38;5;241m!=\u001b[39m \u001b[38;5;241m3\u001b[39m:\n\u001b[1;32m    534\u001b[0m         \u001b[38;5;28;01mraise\u001b[39;00m \u001b[38;5;167;01mRuntimeError\u001b[39;00m(\n\u001b[1;32m    535\u001b[0m             \u001b[38;5;124mf\u001b[39m\u001b[38;5;124m\"\u001b[39m\u001b[38;5;124mFor batched 3-D input, hx should also be 3-D but got \u001b[39m\u001b[38;5;132;01m{\u001b[39;00mhx\u001b[38;5;241m.\u001b[39mdim()\u001b[38;5;132;01m}\u001b[39;00m\u001b[38;5;124m-D tensor\u001b[39m\u001b[38;5;124m\"\u001b[39m)\n\u001b[1;32m    536\u001b[0m max_batch_size \u001b[38;5;241m=\u001b[39m \u001b[38;5;28minput\u001b[39m\u001b[38;5;241m.\u001b[39msize(\u001b[38;5;241m0\u001b[39m) \u001b[38;5;28;01mif\u001b[39;00m \u001b[38;5;28mself\u001b[39m\u001b[38;5;241m.\u001b[39mbatch_first \u001b[38;5;28;01melse\u001b[39;00m \u001b[38;5;28minput\u001b[39m\u001b[38;5;241m.\u001b[39msize(\u001b[38;5;241m1\u001b[39m)\n",
      "\u001b[0;31mAttributeError\u001b[0m: 'tuple' object has no attribute 'dim'"
     ]
    }
   ],
   "source": [
    "epochs = 10\n",
    "\n",
    "for i in range(epochs):\n",
    "    for seq, y_train in train:\n",
    "        optimizer.zero_grad()\n",
    "        model.hidden = (torch.zeros(1,1,model.hidden_size),\n",
    "                       torch.zeros(1,1,model.hidden_size))\n",
    "        \n",
    "        y_pred = model(seq)\n",
    "        loss = criterion(y_pred, y_train)\n",
    "        loss.backward()\n",
    "        optimizer.step()\n",
    "        \n",
    "    print(f\"Epoch {i} Loss: {loss.item()}\")"
   ]
  },
  {
   "cell_type": "code",
   "execution_count": null,
   "id": "5d9fe94f-5eb4-4b8b-b238-7b3953fda250",
   "metadata": {
    "tags": []
   },
   "outputs": [],
   "source": [
    "# Datos de ejemplo: una secuencia de números\n",
    "sequence = chunks\n",
    "\n",
    "# Hiperparámetros\n",
    "input_size = 1  # Dimensión de entrada (un número a la vez)\n",
    "hidden_size = 26  # Tamaño del estado oculto\n",
    "output_size = 1  # Dimensión de salida\n",
    "learning_rate = 0.01\n",
    "num_epochs = 1000\n",
    "\n",
    "\n",
    "# Crear el modelo y la función de pérdida\n",
    "model = RNN(input_size, hidden_size, output_size)\n",
    "criterion = nn.MSELoss()\n",
    "optimizer = optim.SGD(model.parameters(), lr=learning_rate)\n",
    "\n",
    "# Preparar los datos\n",
    "data = torch.tensor(sequence[:-1]).view(1, len(sequence) - 1, input_size).float()\n",
    "target = torch.tensor(sequence[1:]).view(1, len(sequence) - 1, output_size).float()\n",
    "\n",
    "# Entrenamiento del modelo\n",
    "for epoch in range(num_epochs):\n",
    "    optimizer.zero_grad()\n",
    "    outputs = model(data)\n",
    "    loss = criterion(outputs, target)\n",
    "    loss.backward()\n",
    "    optimizer.step()\n",
    "\n",
    "    if (epoch + 1) % 500 == 0:\n",
    "        print(f'Epoch [{epoch + 1}/{num_epochs}], Loss: {loss.item()}')"
   ]
  },
  {
   "cell_type": "code",
   "execution_count": null,
   "id": "f2b7c3cf-f2ca-4b55-8741-8aa29985b7cc",
   "metadata": {
    "tags": []
   },
   "outputs": [],
   "source": [
    "# Predicción\n",
    "model.eval()\n",
    "with torch.no_grad():\n",
    "    initial_input = torch.tensor(sequence[:-1]).view(1, len(sequence) - 1, input_size).float()\n",
    "    predicted_value = model(initial_input).view(-1).item()\n",
    "    print(\"Siguiente valor predicho:\", predicted_value)"
   ]
  },
  {
   "cell_type": "markdown",
   "id": "6b0925db-5e0b-46b8-9acb-cb71ea1ea056",
   "metadata": {},
   "source": [
    "## LSTM"
   ]
  },
  {
   "cell_type": "code",
   "execution_count": null,
   "id": "ad2566ff-1970-4382-b5fe-9c21db203991",
   "metadata": {
    "tags": []
   },
   "outputs": [],
   "source": [
    "class LSTM(nn.Module):\n",
    "    \n",
    "    def __init__(self,input_size = 1, hidden_size = 50, out_size = 1):\n",
    "        super().__init__()\n",
    "        self.hidden_size = hidden_size\n",
    "        self.lstm = nn.LSTM(input_size, hidden_size)\n",
    "        self.linear = nn.Linear(hidden_size,out_size)\n",
    "        self.hidden = (torch.zeros(1,1,hidden_size),torch.zeros(1,1,hidden_size))\n",
    "    \n",
    "    def forward(self,seq):\n",
    "        lstm_out, self.hidden = self.lstm(seq.view(len(seq),1,-1), self.hidden)\n",
    "        pred = self.linear(lstm_out.view(len(seq),-1))\n",
    "        return pred[-1]"
   ]
  },
  {
   "cell_type": "code",
   "execution_count": null,
   "id": "5ca023b6-2ba9-4370-ac6c-b70db04729b6",
   "metadata": {
    "tags": []
   },
   "outputs": [],
   "source": [
    "torch.manual_seed(42)\n",
    "model     = LSTM()\n",
    "criterion = nn.MSELoss()\n",
    "optimizer = torch.optim.SGD(model.parameters(), lr=0.01)"
   ]
  },
  {
   "cell_type": "code",
   "execution_count": null,
   "id": "c009d856-e1d9-4745-8d46-2d3c753958cc",
   "metadata": {
    "tags": []
   },
   "outputs": [],
   "source": [
    "model"
   ]
  },
  {
   "cell_type": "code",
   "execution_count": null,
   "id": "624e538a-04bd-4519-a446-8e3dac2e03a0",
   "metadata": {
    "tags": []
   },
   "outputs": [],
   "source": [
    "epochs = 10\n",
    "future = 10\n",
    "\n",
    "for i in range(epochs):\n",
    "    \n",
    "    for chunk, y_train in train:\n",
    "        optimizer.zero_grad()\n",
    "        model.hidden = (torch.zeros(1,1,model.hidden_size),\n",
    "                       torch.zeros(1,1,model.hidden_size))\n",
    "        \n",
    "        y_pred = model(chunk)\n",
    "        loss = criterion(y_pred, y_train)\n",
    "        loss.backward()\n",
    "        optimizer.step()\n",
    "        \n",
    "    print(f\"Epoch {i} Loss: {loss.item()}\")\n",
    "    \n",
    "    preds = seq2[-window_size:].tolist()\n",
    "    for f in range(future):\n",
    "        seq = torch.FloatTensor(preds[-window_size:])\n",
    "        with torch.no_grad():\n",
    "            model.hidden = (torch.zeros(1,1,model.hidden_size),\n",
    "                           torch.zeros(1,1,model.hidden_size))\n",
    "            preds.append(model(chunk).item())\n",
    "        \n",
    "    loss = criterion(torch.tensor(preds[-window_size:]), seq2[len(seq2)-window_size:])\n",
    "    print(f\"Performance on test range: {loss}\")"
   ]
  },
  {
   "cell_type": "code",
   "execution_count": null,
   "id": "32096f74-3393-4f9b-813f-1125f29fd13a",
   "metadata": {
    "tags": []
   },
   "outputs": [],
   "source": [
    "summary(model,input_size=(len(sequence)-1,2) )"
   ]
  },
  {
   "cell_type": "code",
   "execution_count": null,
   "id": "cf9435e3-b9a1-4ed0-b5e9-55fedc6a6271",
   "metadata": {},
   "outputs": [],
   "source": []
  }
 ],
 "metadata": {
  "kernelspec": {
   "display_name": "Python 3 (ipykernel)",
   "language": "python",
   "name": "python3"
  },
  "language_info": {
   "codemirror_mode": {
    "name": "ipython",
    "version": 3
   },
   "file_extension": ".py",
   "mimetype": "text/x-python",
   "name": "python",
   "nbconvert_exporter": "python",
   "pygments_lexer": "ipython3",
   "version": "3.11.5"
  }
 },
 "nbformat": 4,
 "nbformat_minor": 5
}
