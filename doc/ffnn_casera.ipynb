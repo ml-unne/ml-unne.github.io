{
 "cells": [
  {
   "cell_type": "markdown",
   "metadata": {},
   "source": [
    "# Implementación de una Red Neuronal Casera"
   ]
  },
  {
   "cell_type": "markdown",
   "metadata": {},
   "source": [
    "Vamos a implementar la red neuronal que se muestra en la figura a continuación\n",
    "\n",
    "<img src=\"fig5.1.png\" alt=\"Alternative text\" width=\"400\"/>\n",
    "Cómo puede verse en la figura la red neuronal es una función que mapea una entrada que posee D componentes* a una salida que posee K componentes cuya parametrización resembla a la manera en la que se comportan las neuronas en nuestro cerebro. La función que mapea la entrada a la K-ésima componente de salida es\n",
    "$$ \\begin{align}\n",
    "y_k(\\mathbf{x}, \\mathbf{w})&=f(a_k)=f\\left( \\sum_{j=1}^M w_{k j}^{(2)} h\\left(a_j \\right)+w_{k 0}^{(2)}\\right)\\\\\n",
    "&=f\\left( \\sum_{j=1}^M w_{k j}^{(2)} h\\left( \\sum_{i=1}^D w_{j i}^{(1)} x_i+w_{j 0}^{(1)}\\right)+w_{k 0}^{(2)}\\right) \n",
    "\\end{align}\n",
    "$$\n",
    "\n",
    "Esta red neuronal tiene la particularidad de que posee sólo una capa oculta (hidden layer). \n",
    "Esta red la vamos a poder usar tanto para regresión como para clasificación. \n",
    "\n",
    "Para el problema de regresión vamos a ocupar cómo función de pérdida el error cuadrático medio (MSE), si llamamos $t_i$ al valor del dataset, el MSE es\n",
    "$$E_{MSE} = \\frac{1}{2N} \\sum_{i=1}^{N} (t_i - y_i)^2$$\n",
    "\n",
    "Las expresiones más importantes del algoritmo de *Backpropagation* son:\n",
    "\n",
    "\\begin{align}\n",
    "\\frac{\\partial E}{\\partial a_k} & = \\frac{\\partial E}{\\partial y_k} \\frac{\\partial y_k}{\\partial a_k} = \\frac{\\partial E}{\\partial y_k} f'(a_k) \\\\\n",
    "%\n",
    "\\frac{\\partial E}{\\partial a_j} & = \\sum_k \\frac{\\partial E}{\\partial a_k} \\frac{\\partial a_k}{\\partial a_j} = \\sum_k \\frac{\\partial E}{\\partial a_k} w_{kj}h'(a_j) \\\\\n",
    "%\n",
    "\\frac{\\partial E}{\\partial w_{ji}} & = \\frac{\\partial E}{\\partial a_j} \\frac{\\partial a_j}{\\partial w_{ji}} = \\frac{\\partial E}{\\partial a_j} x_i\\\\\n",
    "\\end{align}\n",
    "\n"
   ]
  },
  {
   "cell_type": "code",
   "execution_count": 1,
   "metadata": {},
   "outputs": [],
   "source": [
    "import numpy as np\n",
    "import pandas as pd\n",
    "import torch\n",
    "from torchsummary import summary\n",
    "import seaborn as sns\n",
    "import matplotlib.pyplot as plt\n",
    "\n",
    "def train_plot(loss_train,loss_val):   # Plot loss function and prediction\n",
    "    fig=plt.figure(figsize=(6,6))\n",
    "    plt.rcParams.update({'font.size': 14})\n",
    "    p1=fig.add_subplot(1,1,1)\n",
    "    p1.plot(loss_train, 'r',label='Train')\n",
    "    p1.plot(loss_val, 'g',label='Validation')\n",
    "    p1.set_yscale('log')\n",
    "    p1.set_xscale('log')\n",
    "    p1.grid('True', color='y')\n",
    "    p1.set_xlabel(\"Epochs/Iterations\")\n",
    "    p1.set_ylabel(\"Loss\")\n",
    "    plt.legend();\n",
    "    fig.tight_layout()"
   ]
  },
  {
   "cell_type": "markdown",
   "metadata": {},
   "source": [
    "### Funciones de activación"
   ]
  },
  {
   "cell_type": "code",
   "execution_count": 2,
   "metadata": {
    "tags": []
   },
   "outputs": [],
   "source": [
    "def h(x,act='relu'): \n",
    "    \"\"\"Funcion de activación para la hidden layer\"\"\"\n",
    "    \n",
    "    if act=='relu':    # Rectified linear unit (ReLU): máximo entre 0 y x\n",
    "        return max(0.0,x)\n",
    "    if act=='linear':\n",
    "        ### ------------------------- HACER\n",
    "        pass\n",
    "\n",
    "def dh(x,act='relu'):\n",
    "    \"\"\"Derivada de la funcion de activación h\"\"\"\n",
    "    \n",
    "    if act=='relu':    # Derivada de la función ReLU\n",
    "        if x<=0: return 0\n",
    "        else:    return 1    \n",
    "    if act=='linear':\n",
    "        ### ------------------------- HACER\n",
    "        pass\n",
    "    \n",
    "def f(x,act='linear'):\n",
    "    \"\"\" Activación para la capa de salida  \"\"\"\n",
    "    if act=='linear':\n",
    "        return x\n",
    "    if act=='sig':\n",
    "        ### ------------------------- HACER\n",
    "        pass\n",
    "        \n",
    "def df(x,act='linear'):\n",
    "    \"\"\" Derivada de la activación para la capa de salida  \"\"\"\n",
    "    if act=='linear':\n",
    "        return 1\n",
    "    if act=='sig':\n",
    "        ### ------------------------- HACER\n",
    "        pass\n",
    "    \n",
    "# vectorizamos las funciones y sus derivadas\n",
    "h = np.vectorize(h); dh = np.vectorize(dh)\n",
    "f = np.vectorize(f); df = np.vectorize(df)\n",
    "\n",
    "if 0:\n",
    "    x=np.arange(-1,1,0.01);\n",
    "    [plt.plot(x,y) for y in [h(x),dh(x),f(x),df(x)]]    "
   ]
  },
  {
   "cell_type": "code",
   "execution_count": 3,
   "metadata": {},
   "outputs": [],
   "source": [
    "class neuralnetwork():\n",
    "    \"\"\" Clase de Neural Network\n",
    "       -train: toma UN dato y ajusta los weights de la red neuronal usando backpropagation.\n",
    "       -predict: hace la predicción del label para un caso en particular en base a las covariates.\n",
    "       -train_nn: entrena una red neuronal sobre TODOS los datos del dataset durante un número especificado de épocas.\n",
    "       -test_nn: evalua la red neuronal en los puntos del test set.\n",
    "       -dataset: permite ingresar un dado dataset.\n",
    "       -parameters: permite ingresar hiperparámetros.\"\"\"\n",
    "    \n",
    "    def __init__(self):\n",
    "        # D dimesión de los datos de entrada (que deben incluir el 1 para la intercept)\n",
    "        # M número de hidden units \n",
    "        # K dimensión del espacio de salida\n",
    "        # N número de datos en el dataset\n",
    "        self.D=2; self.M=3; self.K=2; self.N=2\n",
    "        self.wMD = np.random.rand(self.M,self.D+1)\n",
    "        self.wKM = np.random.rand(self.K,self.M)\n",
    "        self.lr = 0.001\n",
    "        self.epochs = 10\n",
    "        self.training_points = [((1,0.1,-0.3), (1,-1)),((1,0.2,+0.3), (1,1))]\n",
    "        self.testing_points = [((1,0.1,-0.3), (1,-1)),((1,0.2,+0.3), (1,1))]\n",
    "        \n",
    "        \n",
    "    def dataset(self, train=0, test=0):\n",
    "        if type(train)!=int:\n",
    "            np.random.seed(40)\n",
    "            self.training_points = train\n",
    "            self.D = len(train[0][0 ])\n",
    "            self.K = len(train[0][-1])\n",
    "            self.N = len(train)\n",
    "            self.wMD = np.random.rand(self.M,self.D)\n",
    "            self.wKM = np.random.rand(self.K,self.M)\n",
    "            \n",
    "        if type(test)!=int:\n",
    "            self.testing_points = test        \n",
    "        \n",
    "    def parameters(self,M=2,lr=0.01,epochs=20):\n",
    "        self.M  = M\n",
    "        self.lr = lr\n",
    "        self.epochs = epochs\n",
    "    \n",
    "    def train(self, x, t):\n",
    "        ### forward propagation \n",
    "        #                                        Dimension\n",
    "        inputs = x                                #(__,__)\n",
    "        # activaciones de la hidden layer: aj=sum_i wji xi\n",
    "        hidden_in  = self.wMD @ inputs            #(__,__)\n",
    "        # output de la hidden layer:       zj=h(aj)\n",
    "        hidden_out = h(hidden_in)     \n",
    "        # activaciones de la output layer: ak=sum_k wkj zj\n",
    "        output_in = self.wKM @ hidden_out         #(__,__)\n",
    "        # predicción:                      yk=f(ak)\n",
    "        output_out= f(output_in)   \n",
    "\n",
    "        ### backpropagation \n",
    "        #\n",
    "        # Derivada de E respecto ak               #(__,__)\n",
    "        output_error = np.multiply( (output_out-t)/self.N,\n",
    "                                    df(output_in)  ) \n",
    "\n",
    "        # Derivada de E respecto aj               #(__,__)\n",
    "        hidden_error = np.multiply( dh(hidden_in),\n",
    "                                   np.transpose(self.wKM)@output_error) \n",
    "\n",
    "        dwMD = np.outer(hidden_error,inputs)      #(__,__)\n",
    "        dwKM = np.outer(output_error,hidden_out)  #(__,__)\n",
    "\n",
    "        # Descenso de gradientes para ajustar los pesos y los bias\n",
    "        self.wMD += -self.lr*dwMD \n",
    "        self.wKM += -self.lr*dwKM\n",
    "        \n",
    "    def predict(self, x):\n",
    "        inputs = x                               \n",
    "        hidden_in  = self.wMD @ inputs           \n",
    "        hidden_out = h(hidden_in)     \n",
    "        output_in = self.wKM @ hidden_out         \n",
    "        output_out= f(output_in)\n",
    "\n",
    "        return output_out\n",
    "\n",
    "    def train_nn(self): #       Online training         \n",
    "        mse_train=[];mse_test=[];\n",
    "        for epoch in range(self.epochs):\n",
    "            for x,y in self.training_points:\n",
    "                self.train(x, y)\n",
    "\n",
    "            #-----------------------                     HACER \n",
    "            \n",
    "        #---------------------------                     HACER \n",
    "        \n",
    "    def train_minibatch_nn(self): #                      HACER\n",
    "        pass\n",
    "\n",
    "    def test_nn(self,online=0):\n",
    "        tiyi=[]; n_dispersos=0\n",
    "        if online: print('(t_i, y_i)')\n",
    "        for data in self.testing_points:\n",
    "            ti, yi = data[1][0], self.predict(data[0])[0]\n",
    "            tiyi.append([ti,yi])\n",
    "            if abs(self.predict(data[0]) - data[1]) < 1.0:\n",
    "                stat='bien'\n",
    "            else:\n",
    "                n_dispersos+=1\n",
    "                stat='mal'\n",
    "            if online:\n",
    "                print(ti, np.round(yi,2),stat )\n",
    "                \n",
    "        print('El porcentaje de dipersos es',np.round( 100*n_dispersos/len(self.testing_points),3),'%')\n",
    "        return np.array(tiyi)                "
   ]
  },
  {
   "cell_type": "markdown",
   "metadata": {
    "tags": []
   },
   "source": [
    "### <font color='red'> Tarea 1: El algoritmo de Backpropagation</font>\n",
    "(a) Completar los espacios blancos dejados en el código, de la forma  #$(__,__)$, con la dimensión de los vectores y las matricies correspondientes.\n",
    "\n",
    "(b) La expresión *general* que liga inputs, outputs y los parámetros de la NN, $y_k=f(\\mathbf{x};\\mathbf{w})$, está escrita al comienzo. Escriba la función *particular* correspondiente a como la red neuronal está implementada en la funcion 'neuralnetwork()'.\n",
    "\n",
    "(c) *Funciones de activación:* vamos a implementar en los lugares señalados con '###---HACER' dos funciones de activación y sus derivadas, una función lineal para la capa oculta [útil para la regresión lineal] y una sigmoide [útil para el problema de clasificación].\n",
    "\n",
    "(d) En la función 'train_nn' vamos a implementar la función de pérdida MSE y vamos a calcular el historico del MSE en cada época para los datos entrenamiento y de test.\n",
    "\n",
    "(e) Implemente la función 'train_minibatch_nn' que ajusta los pesos promediando los gradientes del conjunto de puntos del batch. Para entrenar la red con esta función deberá preparar los datos de manera diferente a la implementada para entrenar con la rutina 'train_nn'. "
   ]
  },
  {
   "cell_type": "markdown",
   "metadata": {},
   "source": [
    "# Regresión\n",
    "Sobre un dataset de interés histórico vamos a estudiar el efecto de los hiperparámetros de la red, el proceso de entrenamiento, ajuste de los coeficientes por el descenso del gradiente, el entrenamiento en 'batches', el rol de los 'epochs', el overfitting, entre otras cosas."
   ]
  },
  {
   "cell_type": "markdown",
   "metadata": {},
   "source": [
    "### Dataset: Altura de los hijos en función de la altura de los padres\n",
    "El dataset consiste en alturas de padres e hijos [Galton (1886)] y la idea es entrenar la red neuronal para hacer la predicción de la altura de los hijos en función de la altura de los padres.  Tenemos los datos de 928 hijos adultos nacidos de 205 padres y madres. Los intervalos de clase de los datos soon de ancho 1.0 in, es decir 2.54cm. Estos datos. La muestra de Galton tenía alturas similares a las de los adultos contemporáneos (la altura promedio de mujeres y hombres adultos en el Reino Unido en 2010 fue de 63 y 69 pulgadas respectivamente)."
   ]
  },
  {
   "cell_type": "code",
   "execution_count": 4,
   "metadata": {
    "tags": []
   },
   "outputs": [
    {
     "data": {
      "text/html": [
       "<div>\n",
       "<style scoped>\n",
       "    .dataframe tbody tr th:only-of-type {\n",
       "        vertical-align: middle;\n",
       "    }\n",
       "\n",
       "    .dataframe tbody tr th {\n",
       "        vertical-align: top;\n",
       "    }\n",
       "\n",
       "    .dataframe thead th {\n",
       "        text-align: right;\n",
       "    }\n",
       "</style>\n",
       "<table border=\"1\" class=\"dataframe\">\n",
       "  <thead>\n",
       "    <tr style=\"text-align: right;\">\n",
       "      <th></th>\n",
       "      <th>father</th>\n",
       "      <th>mother</th>\n",
       "      <th>childHeight</th>\n",
       "    </tr>\n",
       "  </thead>\n",
       "  <tbody>\n",
       "    <tr>\n",
       "      <th>count</th>\n",
       "      <td>934.000000</td>\n",
       "      <td>934.000000</td>\n",
       "      <td>934.000000</td>\n",
       "    </tr>\n",
       "    <tr>\n",
       "      <th>mean</th>\n",
       "      <td>69.197109</td>\n",
       "      <td>64.089293</td>\n",
       "      <td>66.745931</td>\n",
       "    </tr>\n",
       "    <tr>\n",
       "      <th>std</th>\n",
       "      <td>2.476479</td>\n",
       "      <td>2.290886</td>\n",
       "      <td>3.579251</td>\n",
       "    </tr>\n",
       "    <tr>\n",
       "      <th>min</th>\n",
       "      <td>62.000000</td>\n",
       "      <td>58.000000</td>\n",
       "      <td>56.000000</td>\n",
       "    </tr>\n",
       "    <tr>\n",
       "      <th>25%</th>\n",
       "      <td>68.000000</td>\n",
       "      <td>63.000000</td>\n",
       "      <td>64.000000</td>\n",
       "    </tr>\n",
       "    <tr>\n",
       "      <th>50%</th>\n",
       "      <td>69.000000</td>\n",
       "      <td>64.000000</td>\n",
       "      <td>66.500000</td>\n",
       "    </tr>\n",
       "    <tr>\n",
       "      <th>75%</th>\n",
       "      <td>71.000000</td>\n",
       "      <td>65.875000</td>\n",
       "      <td>69.700000</td>\n",
       "    </tr>\n",
       "    <tr>\n",
       "      <th>max</th>\n",
       "      <td>78.500000</td>\n",
       "      <td>70.500000</td>\n",
       "      <td>79.000000</td>\n",
       "    </tr>\n",
       "  </tbody>\n",
       "</table>\n",
       "</div>"
      ],
      "text/plain": [
       "           father      mother  childHeight\n",
       "count  934.000000  934.000000   934.000000\n",
       "mean    69.197109   64.089293    66.745931\n",
       "std      2.476479    2.290886     3.579251\n",
       "min     62.000000   58.000000    56.000000\n",
       "25%     68.000000   63.000000    64.000000\n",
       "50%     69.000000   64.000000    66.500000\n",
       "75%     71.000000   65.875000    69.700000\n",
       "max     78.500000   70.500000    79.000000"
      ]
     },
     "execution_count": 4,
     "metadata": {},
     "output_type": "execute_result"
    }
   ],
   "source": [
    "GFdf = pd.read_csv('GFdf_father_mother_child.csv')\n",
    "GFdf = GFdf.sample(frac=1, random_state=42)         # Mezclamos los datos\n",
    "GFdf.head()\n",
    "if 0: g =sns.scatterplot(data=GFdf.drop('father',axis=1),x='mother',y='childHeight');\n",
    "GFdf.describe()"
   ]
  },
  {
   "cell_type": "code",
   "execution_count": 5,
   "metadata": {
    "tags": []
   },
   "outputs": [
    {
     "name": "stdout",
     "output_type": "stream",
     "text": [
      "len(Train)= 747 len(Validation)= 187\n"
     ]
    }
   ],
   "source": [
    "# Separamos el dataset en dos grupos, uno para el entrenamiento de la nn y el otro para el test\n",
    "GF_dataset=[]\n",
    "for i in range(len(GFdf)):\n",
    "    GF_dataset.append ( [[1,GFdf['father'][i],GFdf['mother'][i]], [ GFdf['childHeight'][i] ]] )\n",
    "GF_dataset = np.array(GF_dataset,dtype=object); \n",
    "\n",
    "alpha=1.0 # porcentaje del data set\n",
    "\n",
    "N=int(alpha*len(GF_dataset))\n",
    "GF_train, GF_val = GF_dataset[:int(4/5*N)], GF_dataset[int(4/5*N):N]\n",
    "print('len(Train)=',len(GF_train),'len(Validation)=',len(GF_val))"
   ]
  },
  {
   "cell_type": "markdown",
   "metadata": {
    "tags": []
   },
   "source": [
    "### <font color='red'> Tarea 2: Entrenamiento de prueba </font>\n",
    "A continuación vamos a entrenar sobre un dataset sencillo nuestra red casera y una red armada con los modulos de Pytorch. \n",
    "\n",
    "(a) Defina la NN1 como una instancia de la 'neuralnetwork()' con M=5,lr=0.02,epochs=400, alpha=1, entrene la NN1 y dibuje el mse. Imprima el vector de predicción y de targets. Entrene ahora con alpha=0.1 (el 10% de los datos) y ajuste el lr para obtener los mejores resultados.\n",
    "\n",
    "(b) Calcule la cantidad de parámetros a entrenar.\n",
    "\n",
    "(c) Ajuste la arquitectura de la red diseñada con pytorch opción 1 a la arquitectura de nuestra red casera. Tome un par de hiperparámetros, por ejemplo M=30, lr=1e-4 y compare los resultados de ambas redes, explique las diferencias."
   ]
  },
  {
   "cell_type": "markdown",
   "metadata": {},
   "source": [
    "# Nuestra NN\n",
    "\n",
    "\n",
    "\n"
   ]
  },
  {
   "cell_type": "code",
   "execution_count": 17,
   "metadata": {
    "tags": []
   },
   "outputs": [],
   "source": [
    "# Definimos nuestra red neuronal N°1\n",
    "# HACER\n",
    "if 0:\n",
    "    print('Predicción (sin entrenar)')\n",
    "    xi,ti=GF_train[2]\n",
    "    print('Train      ',ti,NN1.predict(xi))\n",
    "    xi,ti=GF_val[2]\n",
    "    print('Validation ',ti,NN1.predict(xi))"
   ]
  },
  {
   "cell_type": "code",
   "execution_count": 7,
   "metadata": {
    "tags": []
   },
   "outputs": [
    {
     "data": {
      "image/png": "[encoded data removed]",
      "text/plain": [
       "<Figure size 600x600 with 1 Axes>"
      ]
     },
     "metadata": {},
     "output_type": "display_data"
    }
   ],
   "source": [
    "# HACER\n",
    "train_plot(Jtrain,Jval)"
   ]
  },
  {
   "cell_type": "code",
   "execution_count": 16,
   "metadata": {
    "collapsed": true,
    "jupyter": {
     "outputs_hidden": true
    },
    "tags": []
   },
   "outputs": [
    {
     "name": "stdout",
     "output_type": "stream",
     "text": [
      "Predicción\n"
     ]
    },
    {
     "ename": "ValueError",
     "evalue": "too many values to unpack (expected 2)",
     "output_type": "error",
     "traceback": [
      "\u001b[0;31m---------------------------------------------------------------------------\u001b[0m",
      "\u001b[0;31mValueError\u001b[0m                                Traceback (most recent call last)",
      "Cell \u001b[0;32mIn[16], line 2\u001b[0m\n\u001b[1;32m      1\u001b[0m \u001b[38;5;28mprint\u001b[39m(\u001b[38;5;124m'\u001b[39m\u001b[38;5;124mPredicción\u001b[39m\u001b[38;5;124m'\u001b[39m)\n\u001b[0;32m----> 2\u001b[0m xi,ti\u001b[38;5;241m=\u001b[39mGF_train[\u001b[38;5;241m10\u001b[39m]\n\u001b[1;32m      3\u001b[0m \u001b[38;5;28mprint\u001b[39m(\u001b[38;5;124m'\u001b[39m\u001b[38;5;124mTrain      \u001b[39m\u001b[38;5;124m'\u001b[39m,ti,NN1\u001b[38;5;241m.\u001b[39mpredict(xi))\n\u001b[1;32m      4\u001b[0m xi,ti\u001b[38;5;241m=\u001b[39mGF_val[\u001b[38;5;241m10\u001b[39m]\n",
      "\u001b[0;31mValueError\u001b[0m: too many values to unpack (expected 2)"
     ]
    }
   ],
   "source": [
    "print('Predicción')\n",
    "xi,ti=GF_train[10]\n",
    "print('Train      ',ti,NN1.predict(xi))\n",
    "xi,ti=GF_val[10]\n",
    "print('Validation ',ti,NN1.predict(xi))"
   ]
  },
  {
   "cell_type": "markdown",
   "metadata": {},
   "source": [
    "# Pytorch\n",
    "\n",
    "\n",
    "\n",
    "\n"
   ]
  },
  {
   "cell_type": "code",
   "execution_count": 9,
   "metadata": {
    "tags": []
   },
   "outputs": [
    {
     "name": "stdout",
     "output_type": "stream",
     "text": [
      "# len(Train)= 747 # len(Validation)= 187\n"
     ]
    }
   ],
   "source": [
    "# Separamos el dataset en dos grupos, uno para el entrenamiento de la nn y el otro para el test\n",
    "GF_dataset=GFdf.to_numpy(dtype=np.float32);  \n",
    "N=int(alpha*len(GF_dataset))\n",
    "GF_train, GF_test = GF_dataset[:int(4/5*N)], GF_dataset[int(4/5*N):N]\n",
    "\n",
    "X_train=torch.tensor(GF_train[:,:2]); y_train=torch.tensor(GF_train[:,-1])\n",
    "X_val  =torch.tensor(GF_test[:,:2]);  y_val =torch.tensor(GF_test[:,-1])\n",
    "print('# len(Train)=',len(X_train),'# len(Validation)=',len(X_val))"
   ]
  },
  {
   "cell_type": "markdown",
   "metadata": {},
   "source": [
    "## Training con torch clases/funciones\n",
    "\n",
    "Pasamos a la metodologia utilizada en pytorch, \n",
    "* se definen el optimizador (SGD=stochastic gradient descent) \n",
    "* la funcion de costo (MSE) \n",
    "* luego iniciamos las iteraciones, \n",
    "* Propagacion hacia adeltante:\n",
    "    * realizando predicciones dado un set de parametros, \n",
    "    * evaluando la funcion de costo en la prediccion (propagacion hacia adelante)\n",
    "*  Backprop:\n",
    "    * se inicializan los gradientes a 0 (`zero_grad`) \n",
    "    * se hace la backward propagation desde la funcion de perdida hasta los parametros/inputs (`backward`).\n",
    "* Por ultimo se actualizan los parametros con la info del gradiente en el optimizador (`step`).\n",
    "* Diagnostico con  validation data"
   ]
  },
  {
   "cell_type": "code",
   "execution_count": 10,
   "metadata": {
    "tags": []
   },
   "outputs": [],
   "source": [
    "def train(model,n_epochs,n_epo_out=100):\n",
    "    optimizer = torch.optim.SGD(model.parameters(), lr=1e-2)\n",
    "    loss_fn = torch.nn.MSELoss()\n",
    "    losst=[]; lossv=[]\n",
    "    for i in range(n_epochs):\n",
    "        \n",
    "        # Calculate predicted y from x\n",
    "        y_pred = model(X_train)\n",
    "    \n",
    "        # Calculate loss\n",
    "        loss = loss_fn(y_pred,y_train)\n",
    "        if i%n_epo_out == 0: print(f'epoch: {i:4}, loss: {loss.data:.3}',)\n",
    "    \n",
    "        losst.append(loss.item())\n",
    "\n",
    "        # Backprop, first initialize with zero gradients\n",
    "        optimizer.zero_grad()\n",
    "        loss.backward()\n",
    "\n",
    "        # Update parameters\n",
    "        optimizer.step()\n",
    "    \n",
    "        with torch.no_grad(): # para validacion no se requiere de grad\n",
    "            y_pred = model(X_val)\n",
    "            loss = loss_fn(y_pred,y_val)\n",
    "            lossv.append(loss.item())\n",
    "            \n",
    "    return losst, lossv"
   ]
  },
  {
   "cell_type": "markdown",
   "metadata": {},
   "source": [
    "## Defino modelos en pytorch\n",
    "\n",
    "Vamos a aprovechar los modelos predefinidos de pytorch para generar redes mas complejas. Dos estructuras utiles, la  `torch.nn.Linear `  que define la red lineal y `torch.nn.Sequential` que nos permite apilar estructuras. Entre las transformaciones lineales/capas ubicamos funciones de activacion e.g. `torch.nn.ReLU`"
   ]
  },
  {
   "cell_type": "code",
   "execution_count": 11,
   "metadata": {
    "tags": []
   },
   "outputs": [],
   "source": [
    "def set_model(opt,act_fn=torch.nn.ReLU):\n",
    "    #act_fn=torch.nn.Tanh\n",
    "    #act_fn=torch.nn.Sigmoid\n",
    "    \n",
    "    n_inputs = 2\n",
    "    n_outputs = 1\n",
    "\n",
    "    if opt == 0:        ##  Linear regression\n",
    "        model = torch.nn.Linear(n_inputs, n_outputs)\n",
    "    elif opt == 1:      ##  Genera una red de una hidden layer cómo la de la sección anterior\n",
    "        n_hidden = 15\n",
    "        model = torch.nn.Sequential(torch.nn.Linear(n_inputs, n_hidden),\n",
    "                                    act_fn(), # relu activation function\n",
    "                                    torch.nn.Linear(n_hidden, n_outputs))\n",
    "        \n",
    "    elif opt == 2:\n",
    "        n_hidden = 100\n",
    "        model = torch.nn.Sequential(torch.nn.Linear(n_inputs, n_hidden),\n",
    "                                act_fn(), # relu activation function\n",
    "                                torch.nn.Linear(n_hidden, n_hidden),\n",
    "                                act_fn(), # relu activation function\n",
    "                                torch.nn.Linear(n_hidden, n_outputs))\n",
    "\n",
    "    return model"
   ]
  },
  {
   "cell_type": "code",
   "execution_count": 12,
   "metadata": {
    "tags": []
   },
   "outputs": [
    {
     "name": "stderr",
     "output_type": "stream",
     "text": [
      "/home/dsac/anaconda3/lib/python3.11/site-packages/torch/nn/modules/loss.py:535: UserWarning: Using a target size (torch.Size([747])) that is different to the input size (torch.Size([747, 1])). This will likely lead to incorrect results due to broadcasting. Please ensure they have the same size.\n",
      "  return F.mse_loss(input, target, reduction=self.reduction)\n",
      "/home/dsac/anaconda3/lib/python3.11/site-packages/torch/nn/modules/loss.py:535: UserWarning: Using a target size (torch.Size([187])) that is different to the input size (torch.Size([187, 1])). This will likely lead to incorrect results due to broadcasting. Please ensure they have the same size.\n",
      "  return F.mse_loss(input, target, reduction=self.reduction)\n"
     ]
    },
    {
     "name": "stdout",
     "output_type": "stream",
     "text": [
      "epoch:    0, loss: 4.84e+03\n",
      "epoch:  100, loss: 5.37e+05\n",
      "epoch:  200, loss: 9.46e+03\n",
      "epoch:  300, loss: 1.79e+02\n"
     ]
    }
   ],
   "source": [
    "model=set_model(opt=1)\n",
    "#summary(model,input_size=(len(X_train),2) )\n",
    "Jtrain,Jval = train(model,400,100)\n",
    "with torch.no_grad(): # no training\n",
    "    y_pred_val2=model(X_val)"
   ]
  },
  {
   "cell_type": "code",
   "execution_count": 13,
   "metadata": {
    "tags": []
   },
   "outputs": [
    {
     "data": {
      "image/png": "[encoded data removed]",
      "text/plain": [
       "<Figure size 600x600 with 1 Axes>"
      ]
     },
     "metadata": {},
     "output_type": "display_data"
    }
   ],
   "source": [
    "train_plot(Jtrain,Jval)"
   ]
  },
  {
   "cell_type": "code",
   "execution_count": 15,
   "metadata": {
    "tags": []
   },
   "outputs": [
    {
     "name": "stdout",
     "output_type": "stream",
     "text": [
      "Predicción\n",
      "Train tensor(72.7000) [65.05828]\n",
      "Test  tensor(66.) [65.05828]\n"
     ]
    }
   ],
   "source": [
    "print('Predicción')\n",
    "xi,ti=X_train[1],y_train[1]\n",
    "print('Train',ti,model(xi).detach().numpy())\n",
    "xi,ti=X_val[1],y_val[1]\n",
    "print('Test ',ti,model(xi).detach().numpy())"
   ]
  },
  {
   "cell_type": "code",
   "execution_count": null,
   "metadata": {},
   "outputs": [],
   "source": []
  },
  {
   "cell_type": "code",
   "execution_count": null,
   "metadata": {},
   "outputs": [],
   "source": []
  }
 ],
 "metadata": {
  "kernelspec": {
   "display_name": "Python 3 (ipykernel)",
   "language": "python",
   "name": "python3"
  },
  "language_info": {
   "codemirror_mode": {
    "name": "ipython",
    "version": 3
   },
   "file_extension": ".py",
   "mimetype": "text/x-python",
   "name": "python",
   "nbconvert_exporter": "python",
   "pygments_lexer": "ipython3",
   "version": "3.11.5"
  }
 },
 "nbformat": 4,
 "nbformat_minor": 4
}
